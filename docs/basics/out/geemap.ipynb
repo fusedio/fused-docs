{
 "cells": [
  {
   "cell_type": "markdown",
   "metadata": {},
   "source": [
    "# Geemap\n",
    "\n",
    "[Geemap](https://geemap.org/) is a Python package to visually analyze geospatial data with Google Earth Engine (GEE).\n",
    "\n",
    "This snippet shows how to render a `GeoDataFrame` returned by a UDF in geemap. Specifically, the [UDF](https://github.com/fusedio/udfs/tree/main/public/Overture_Maps_Example) loads Buildings from the [Overture](https://beta.source.coop/repositories/fused/overture/description/) dataset, converts them to a GEE [FeatureCollection](https://developers.google.com/earth-engine/apidocs/ee-featurecollection), and renders them on the map as vectors.\n",
    "\n",
    "![geemap](https://fused-magic.s3.us-west-2.amazonaws.com/docs_assets/geemap.png)"
   ]
  },
  {
   "cell_type": "code",
   "execution_count": null,
   "metadata": {},
   "outputs": [],
   "source": [
    "!pip install fused geemap earthengine-api"
   ]
  },
  {
   "cell_type": "markdown",
   "metadata": {},
   "source": [
    "## 1. Authenticate into Google Earth Engine\n",
    "\n",
    "Running this command should prompt you to open a window to get then provide the GEE token."
   ]
  },
  {
   "cell_type": "code",
   "execution_count": null,
   "metadata": {},
   "outputs": [],
   "source": [
    "import geemap\n",
    "import ee\n",
    "import fused\n",
    "\n",
    "ee.Initialize()"
   ]
  },
  {
   "cell_type": "markdown",
   "metadata": {},
   "source": [
    "## 2. Run Overture UDF to get Buildings GeoDataFrame"
   ]
  },
  {
   "cell_type": "code",
   "execution_count": null,
   "metadata": {},
   "outputs": [],
   "source": [
    "# Load UDF\n",
    "udf = fused.load(\"https://github.com/fusedio/udfs/tree/main/public/Overture_Maps_Example\")\n",
    "\n",
    "# Run UDF\n",
    "gdf_buildings = fused.run(udf=udf, x=10484, y=25324, z=16, engine=\"local\")\n",
    "gdf_buildings = gdf_buildings.set_crs(\"WGS84\")\n",
    "gdf_buildings.head()"
   ]
  },
  {
   "cell_type": "markdown",
   "metadata": {},
   "source": [
    "## Render on `geemap` map"
   ]
  },
  {
   "cell_type": "code",
   "execution_count": null,
   "metadata": {},
   "outputs": [],
   "source": [
    "\n",
    "# Create a map centered at the given location\n",
    "Map = geemap.Map(center=(37.8, -122.4), zoom=14)\n",
    "\n",
    "# Render buildings on map\n",
    "fc = geemap.geopandas_to_ee(gdf_buildings)\n",
    "Map.addLayer(fc, {'color': 'red'}, \"Default Overture Buildings\")\n",
    "Map"
   ]
  },
  {
   "cell_type": "markdown",
   "metadata": {},
   "source": [
    "## Bonus: Perform a spatial query for custom geometry"
   ]
  },
  {
   "cell_type": "markdown",
   "metadata": {},
   "source": [
    "First render the map and draw a single polygon for the region of interest."
   ]
  },
  {
   "cell_type": "code",
   "execution_count": 19,
   "metadata": {},
   "outputs": [
    {
     "data": {
      "text/html": [
       "\n",
       "            <style>\n",
       "                .geemap-dark {\n",
       "                    --jp-widgets-color: white;\n",
       "                    --jp-widgets-label-color: white;\n",
       "                    --jp-ui-font-color1: white;\n",
       "                    --jp-layout-color2: #454545;\n",
       "                    background-color: #383838;\n",
       "                }\n",
       "\n",
       "                .geemap-dark .jupyter-button {\n",
       "                    --jp-layout-color3: #383838;\n",
       "                }\n",
       "\n",
       "                .geemap-colab {\n",
       "                    background-color: var(--colab-primary-surface-color, white);\n",
       "                }\n",
       "\n",
       "                .geemap-colab .jupyter-button {\n",
       "                    --jp-layout-color3: var(--colab-primary-surface-color, white);\n",
       "                }\n",
       "            </style>\n",
       "            "
      ],
      "text/plain": [
       "<IPython.core.display.HTML object>"
      ]
     },
     "metadata": {},
     "output_type": "display_data"
    },
    {
     "data": {
      "application/vnd.jupyter.widget-view+json": {
       "model_id": "854d13e21ea949528e38a92760e53ebb",
       "version_major": 2,
       "version_minor": 0
      },
      "text/plain": [
       "Map(center=[37.8, -122.4], controls=(WidgetControl(options=['position', 'transparent_bg'], widget=SearchDataGU…"
      ]
     },
     "execution_count": 19,
     "metadata": {},
     "output_type": "execute_result"
    }
   ],
   "source": [
    "# Create a map centered at the given location\n",
    "Map = geemap.Map(center=(37.8, -122.4), zoom=14)\n",
    "Map"
   ]
  },
  {
   "cell_type": "code",
   "execution_count": null,
   "metadata": {},
   "outputs": [],
   "source": [
    "# Generate a GeoDataFrame of the drawn polygon\n",
    "roi = ee.FeatureCollection(Map.draw_features)\n",
    "gdf_bbox = geemap.ee_to_gdf(roi)\n",
    "\n",
    "# Run UDF\n",
    "gdf_buildings = udf(bbox=gdf_bbox).run_local()\n",
    "\n",
    "# Render buildings on map\n",
    "fc = geemap.geopandas_to_ee(gdf_buildings)\n",
    "Map.addLayer(fc, {}, \"Custom Overture Buildings\")"
   ]
  },
  {
   "cell_type": "code",
   "execution_count": null,
   "metadata": {},
   "outputs": [],
   "source": []
  }
 ],
 "metadata": {
  "kernelspec": {
   "display_name": ".venv",
   "language": "python",
   "name": "python3"
  },
  "language_info": {
   "codemirror_mode": {
    "name": "ipython",
    "version": 3
   },
   "file_extension": ".py",
   "mimetype": "text/x-python",
   "name": "python",
   "nbconvert_exporter": "python",
   "pygments_lexer": "ipython3",
   "version": "3.9.19"
  }
 },
 "nbformat": 4,
 "nbformat_minor": 2
}
