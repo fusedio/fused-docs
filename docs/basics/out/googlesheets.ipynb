{
 "cells": [
  {
   "cell_type": "markdown",
   "metadata": {},
   "source": [
    "# Google Sheets\n",
    "\n",
    "The Google Sheets [importData](https://support.google.com/docs/answer/3093335?hl=en) command imports data at from a given url in `.csv` format. You can use it to load data from a UDF into a Google Sheets cell.\n",
    "\n",
    "![alt text](https://fused-magic.s3.us-west-2.amazonaws.com/docs_assets/gifs/google_sheets.gif)\n",
    "\n",
    ":::warning\n",
    "\n",
    "Google Sheets' `importData` imposes data size constraints that will require the UDF to return a conservative number of rows. Otherwise it may show the following error message.\n",
    "\n",
    "import sl from '@site/static/img/sheets_limit.png';\n",
    "\n",
    "<div style={{textAlign: 'center'}}>\n",
    "<img src={sl} alt=\"File\" style={{width: 600}} />\n",
    "</div>\n",
    "\n",
    "\n",
    ":::\n"
   ]
  },
  {
   "cell_type": "markdown",
   "metadata": {},
   "source": [
    "## 1. Create a UDF in Fused Hosted API\n",
    "\n",
    "Create a UDF that returns a table then save it on Workbench to automatically create an endpoint.\n",
    "\n",
    "This example retrieves Caltrain live location data from GTFS realtime feed, and returns it as a dataframe."
   ]
  },
  {
   "cell_type": "code",
   "execution_count": 1,
   "metadata": {},
   "outputs": [],
   "source": [
    "import fused\n",
    "\n",
    "\n",
    "@fused.udf\n",
    "def udf():\n",
    "    import pandas as pd\n",
    "    import requests\n",
    "\n",
    "    r = requests.get(f\"https://www.caltrain.com/files/rt/vehiclepositions/CT.json\")\n",
    "    j = r.json()\n",
    "    df = pd.json_normalize(j[\"Entities\"])\n",
    "    return df"
   ]
  },
  {
   "cell_type": "markdown",
   "metadata": {},
   "source": [
    "## 2. Create a URL for the UDF\n",
    "\n",
    "Now, [create a signed Tile HTTP endpoint](/basics/core-concepts/#generate-endpoints-with-workbench) for the UDF.\n",
    "\n",
    "Append this query parameter to the end of the URL to structure the response as a CSV type: `?dtype_out_vector=csv`.\n",
    "\n",
    "The generated URL should look like this:\n",
    "\n",
    "`https://www.fused.io/server/v1/realtime-shared/940c7d75bb3f12f2c411beeee7293729d35a9429ebb3760df29fa84c3166b7b9/run/file?dtype_out_vector=csv`\n",
    "\n"
   ]
  },
  {
   "cell_type": "markdown",
   "metadata": {},
   "source": [
    "## 3. Call the UDF in a cell\n",
    "\n",
    "Now that you have the UDF live on Fused Hosted API and a URL to call it, you're ready to import data into Google Sheets. In the cell where you want your data to appear, use the `importData` function with the URL of your UDF. The syntax is as follows:\n",
    "\n",
    "`=importData(\"https://www.fused.io/server/v1/realtime-shared/940c7d75bb3f12f2c411beeee7293729d35a9429ebb3760df29fa84c3166b7b9/run/file?dtype_out_vector=csv\")`\n",
    "\n",
    "When you enter this formula into a cell, Google Sheets will call your UDF, and the returned dataframe will be automatically populated in the spreadsheet.\n",
    "\n",
    "\n"
   ]
  },
  {
   "cell_type": "code",
   "execution_count": null,
   "metadata": {},
   "outputs": [],
   "source": []
  }
 ],
 "metadata": {
  "kernelspec": {
   "display_name": ".venv",
   "language": "python",
   "name": "python3"
  },
  "language_info": {
   "codemirror_mode": {
    "name": "ipython",
    "version": 3
   },
   "file_extension": ".py",
   "mimetype": "text/x-python",
   "name": "python",
   "nbconvert_exporter": "python",
   "pygments_lexer": "ipython3",
   "version": "3.9.19"
  }
 },
 "nbformat": 4,
 "nbformat_minor": 2
}
