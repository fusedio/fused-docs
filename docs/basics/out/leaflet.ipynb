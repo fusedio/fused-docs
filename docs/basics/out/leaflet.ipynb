{
 "cells": [
  {
   "cell_type": "markdown",
   "metadata": {},
   "source": [
    "# Leaflet\n",
    "\n",
    "Fused can be used to display responsive Tile maps in Jupyter Notebooks with the `ipyleaflet` library.\n",
    "\n",
    "![alt text](https://fused-magic.s3.us-west-2.amazonaws.com/docs_assets/gifs/leaflet.gif)\n",
    "\n",
    "\n",
    "Follow these steps to embed a map into a Notion page."
   ]
  },
  {
   "cell_type": "code",
   "execution_count": null,
   "metadata": {},
   "outputs": [],
   "source": [
    "# !pip install fused leaflet"
   ]
  },
  {
   "cell_type": "markdown",
   "metadata": {},
   "source": [
    "## 1. Create UDF in Workbennch\n",
    "\n",
    "Create a UDF in Workbench, and generate a signed URL to use as an endpoint its endpoint."
   ]
  },
  {
   "cell_type": "code",
   "execution_count": null,
   "metadata": {},
   "outputs": [],
   "source": [
    "from fused.api import FusedAPI\n",
    "api = FusedAPI()\n",
    "\n",
    "# Create a new UDF access token using its unique token string.\n",
    "token_object = api.create_udf_access_token(udf_email=\"user@fused.io\", udf_name=\"CDLs_Tile_Example\")\n",
    "\n",
    "# Generate a URL\n",
    "url = token_object.get_tile_url()\n",
    "url"
   ]
  },
  {
   "cell_type": "markdown",
   "metadata": {},
   "source": [
    "## 2. Create a Leaflet map, with a TileLayer\n",
    "\n",
    "Modify the signed url to introduce ZXY Tile parameters (`{{z}}/{{x}}/{{y}}`) as well query strings for other UDF-specific parameters (`?crop_type={crop_type}`) as shown in the example."
   ]
  },
  {
   "cell_type": "code",
   "execution_count": 3,
   "metadata": {},
   "outputs": [
    {
     "data": {
      "application/vnd.jupyter.widget-view+json": {
       "model_id": "a03d6b4e067d4c98873d09885dee4153",
       "version_major": 2,
       "version_minor": 0
      },
      "text/plain": [
       "Map(center=[37.316, -120.69], controls=(ZoomControl(options=['position', 'zoom_in_text', 'zoom_in_title', 'zoo…"
      ]
     },
     "execution_count": 3,
     "metadata": {},
     "output_type": "execute_result"
    }
   ],
   "source": [
    "import ipyleaflet\n",
    "\n",
    "crop_type='almond'\n",
    "m = ipyleaflet.Map(center=(37.316, -120.69), zoom=10, basemap=ipyleaflet.basemaps.CartoDB.PositronOnlyLabels)\n",
    "l = ipyleaflet.TileLayer(\n",
    "    url=f'https://app-staging.fused.io/server/v1/realtime-shared/fce1c75c21a228b7eb067aa387f573196034d9707d78c85c32c363fc88ef4d4e/run/tiles/{{z}}/{{x}}/{{y}}?crop_type={crop_type}',\n",
    "    tile_size=512,\n",
    "    zoom_offset=-1,\n",
    "    cross_origin=True,\n",
    "    show_loading=True,\n",
    ")\n",
    "m.add_layer(l)\n",
    "m"
   ]
  },
  {
   "cell_type": "code",
   "execution_count": null,
   "metadata": {},
   "outputs": [],
   "source": []
  }
 ],
 "metadata": {
  "kernelspec": {
   "display_name": ".venv",
   "language": "python",
   "name": "python3"
  },
  "language_info": {
   "codemirror_mode": {
    "name": "ipython",
    "version": 3
   },
   "file_extension": ".py",
   "mimetype": "text/x-python",
   "name": "python",
   "nbconvert_exporter": "python",
   "pygments_lexer": "ipython3",
   "version": "3.9.19"
  }
 },
 "nbformat": 4,
 "nbformat_minor": 2
}
