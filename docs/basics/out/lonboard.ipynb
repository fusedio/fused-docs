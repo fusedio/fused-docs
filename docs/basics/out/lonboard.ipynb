{
 "cells": [
  {
   "cell_type": "markdown",
   "metadata": {},
   "source": [
    "# Lonboard\n",
    "\n",
    "[Lonboard](https://developmentseed.org/lonboard/latest/) is a Python library to create fast and interactive geospatial visualizations in Jupyter Notebooks.\n",
    "\n",
    "This snippet shows how to create a Lonboard BitmapTileLayer that renders a UDF as a Tile. This ([example UDF](https://github.com/fusedio/udfs/tree/main/public/CDLs_Tile_Example)) renders Cropland Data Layer (CDL) tiff files, which is a categorical land cover dataset of crops and land cover on agricultural lands in the United States."
   ]
  },
  {
   "cell_type": "code",
   "execution_count": null,
   "metadata": {},
   "outputs": [],
   "source": [
    "# !pip install fused lonboard"
   ]
  },
  {
   "cell_type": "code",
   "execution_count": 1,
   "metadata": {},
   "outputs": [
    {
     "data": {
      "application/vnd.jupyter.widget-view+json": {
       "model_id": "44250f11eb424b91a855bbd4b6156fcc",
       "version_major": 2,
       "version_minor": 0
      },
      "text/plain": [
       "Map(basemap_style=<CartoBasemap.Voyager: 'https://basemaps.cartocdn.com/gl/voyager-gl-style/style.json'>, laye…"
      ]
     },
     "execution_count": 1,
     "metadata": {},
     "output_type": "execute_result"
    }
   ],
   "source": [
    "import lonboard\n",
    "\n",
    "crop_type = \"almond\"\n",
    "url = f\"https://app-staging.fused.io/server/v1/realtime-shared/fce1c75c21a228b7eb067aa387f573196034d9707d78c85c32c363fc88ef4d4e/run/tiles/{{z}}/{{x}}/{{y}}?crop_type={crop_type}\"\n",
    "layer = lonboard.BitmapTileLayer(\n",
    "    data=url, tile_size=256, max_requests=-1, min_zoom=0, max_zoom=19\n",
    ")\n",
    "map = lonboard.Map(\n",
    "    layers=[layer],\n",
    "    _initial_view_state={\"longitude\": -121.4, \"latitude\": 37.7, \"zoom\": 10},\n",
    "    basemap_style=lonboard.basemap.CartoBasemap.Voyager,\n",
    "    show_tooltip=True,\n",
    ")\n",
    "map"
   ]
  },
  {
   "cell_type": "code",
   "execution_count": null,
   "metadata": {},
   "outputs": [],
   "source": []
  }
 ],
 "metadata": {
  "kernelspec": {
   "display_name": ".venv",
   "language": "python",
   "name": "python3"
  },
  "language_info": {
   "codemirror_mode": {
    "name": "ipython",
    "version": 3
   },
   "file_extension": ".py",
   "mimetype": "text/x-python",
   "name": "python",
   "nbconvert_exporter": "python",
   "pygments_lexer": "ipython3",
   "version": "3.9.19"
  }
 },
 "nbformat": 4,
 "nbformat_minor": 2
}
