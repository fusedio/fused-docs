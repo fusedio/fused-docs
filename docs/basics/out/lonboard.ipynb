{
 "cells": [
  {
   "cell_type": "markdown",
   "metadata": {},
   "source": [
    "# Lonboard\n",
    "\n",
    "<img src=\"https://fused-magic.s3.us-west-2.amazonaws.com/docs_assets/lonboard_cdl.png\" alt=\"overture\" width=\"600\"/>"
   ]
  },
  {
   "cell_type": "markdown",
   "metadata": {},
   "source": [
    "Uncomment this cell to install [lonboard](https://github.com/developmentseed/lonboard?tab=readme-ov-file) if needed."
   ]
  },
  {
   "cell_type": "markdown",
   "metadata": {},
   "source": [
    "## 1. Create UDF in Workbennch\n",
    "\n",
    "Create a UDF in Workbench that works as a `Tile`, and [generate a signed Tile HTTP endpoint](/basics/core-concepts/#generate-endpoints-with-workbench) for the UDF."
   ]
  },
  {
   "cell_type": "markdown",
   "metadata": {},
   "source": [
    "## 2. Create a Lonboard map"
   ]
  },
  {
   "cell_type": "code",
   "execution_count": null,
   "metadata": {},
   "outputs": [],
   "source": [
    "# !pip install lonboard -q"
   ]
  },
  {
   "cell_type": "markdown",
   "metadata": {},
   "source": [
    "Render [CDLs Tile Example](https://github.com/fusedio/udfs/tree/main/public/CDLs_Tile_Example) UDF as a Lonboard BitmapTileLayer."
   ]
  },
  {
   "cell_type": "code",
   "execution_count": null,
   "metadata": {},
   "outputs": [],
   "source": [
    "import lonboard\n",
    "\n",
    "crop_type = \"almond\"\n",
    "url = f\"https://www.fused.io/server/v1/realtime-shared/8110ef6e0c66f07f0c73f39843db27ece3960f98f268f38ef2f79f3623faae01/run/tiles/{{z}}/{{x}}/{{y}}?crop_type={crop_type}\"\n",
    "layer = lonboard.BitmapTileLayer(\n",
    "    data=url, tile_size=256, max_requests=-1, min_zoom=0, max_zoom=19\n",
    ")\n",
    "map = lonboard.Map(\n",
    "    layers=[layer],\n",
    "    _initial_view_state={\"longitude\": -121.4, \"latitude\": 37.7, \"zoom\": 10},\n",
    "    basemap_style=lonboard.basemap.CartoBasemap.Voyager,\n",
    "    show_tooltip=True,\n",
    ")\n",
    "map"
   ]
  },
  {
   "cell_type": "code",
   "execution_count": null,
   "metadata": {},
   "outputs": [],
   "source": []
  }
 ],
 "metadata": {
  "kernelspec": {
   "display_name": ".venv",
   "language": "python",
   "name": "python3"
  },
  "language_info": {
   "codemirror_mode": {
    "name": "ipython",
    "version": 3
   },
   "file_extension": ".py",
   "mimetype": "text/x-python",
   "name": "python",
   "nbconvert_exporter": "python",
   "pygments_lexer": "ipython3",
   "version": "3.9.19"
  }
 },
 "nbformat": 4,
 "nbformat_minor": 2
}
