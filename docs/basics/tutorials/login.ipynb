{
 "cells": [
  {
   "cell_type": "markdown",
   "metadata": {},
   "source": [
    "# Notebook Login\n",
    "\n",
    "To use the Fused Python SDK within a Python environment, you'll need to authenticate to interact with the API and run UDFs.\n"
   ]
  },
  {
   "cell_type": "code",
   "execution_count": 1,
   "metadata": {},
   "outputs": [],
   "source": [
    "# !pip install fused -q"
   ]
  },
  {
   "cell_type": "markdown",
   "metadata": {},
   "source": [
    "When running code on a local machine, authentication will happen automatically whenever you start calling fused functions. If no credentials have already been saved to disk, when you run import fused, you'll see a message describing how to login.\n",
    "\n",
    "If credentials haven't yet been saved to your local machine (in `~/.fused/credentials`), this will open up your web browser so you can log in. After the first login, credentials will be saved and automatically loaded as needed.\n",
    "\n",
    "The second line will print out a link for you to click on. That link will navigate you to our login page. After logging in, you'll see\n",
    "\n"
   ]
  },
  {
   "cell_type": "code",
   "execution_count": null,
   "metadata": {},
   "outputs": [],
   "source": [
    "from fused import NotebookCredentials\n",
    "\n",
    "credentials = NotebookCredentials()"
   ]
  },
  {
   "cell_type": "code",
   "execution_count": null,
   "metadata": {},
   "outputs": [],
   "source": [
    "# Paste the credentials snippet found in the URL above\n",
    "credentials.finalize(code=\"...\")"
   ]
  },
  {
   "cell_type": "markdown",
   "metadata": {},
   "source": [
    "Now the api object will have access to the Fused API.\n",
    "\n",
    "Note: When running code on a remote machine, the above command-line method won't work because the remote command line is unable to open a web browser. For those cases, you can copy the `~/.fused/credentials` file to the target system."
   ]
  },
  {
   "cell_type": "code",
   "execution_count": null,
   "metadata": {},
   "outputs": [],
   "source": []
  }
 ],
 "metadata": {
  "kernelspec": {
   "display_name": ".venv",
   "language": "python",
   "name": "python3"
  },
  "language_info": {
   "codemirror_mode": {
    "name": "ipython",
    "version": 3
   },
   "file_extension": ".py",
   "mimetype": "text/x-python",
   "name": "python",
   "nbconvert_exporter": "python",
   "pygments_lexer": "ipython3",
   "version": "3.9.19"
  }
 },
 "nbformat": 4,
 "nbformat_minor": 2
}
