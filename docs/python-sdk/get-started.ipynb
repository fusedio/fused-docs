{
 "cells": [
  {
   "cell_type": "markdown",
   "metadata": {},
   "source": [
    "# Get started with `fused-py`\n",
    "\n",
    "Integrate Fused into your own environment with the Fused Python SDK (`fused-py`). The library exposes utility functions to write, manage, and run Fused UDFs from anywhere. \n",
    "\n",
    "This guide provides a setup overview and a brief introduction to get started with `fused-py` in a Jupyter Notebook."
   ]
  },
  {
   "cell_type": "markdown",
   "metadata": {},
   "source": [
    "## Setup\n",
    "\n",
    "### 1. Create an account at fused.io\n",
    "...\n",
    "\n",
    "\n",
    "### 2. Install the Python package\n",
    "\n",
    "Start by installing [`fused-py`](https://pypi.org/project/fused/).\n",
    "\n",
    ":::note\n",
    "\n",
    "Fused supports Python versions >=3.8 to <3.12.\n",
    "\n",
    ":::\n",
    "\n"
   ]
  },
  {
   "cell_type": "code",
   "execution_count": null,
   "metadata": {},
   "outputs": [],
   "source": [
    "# !pip install fused -q"
   ]
  },
  {
   "cell_type": "markdown",
   "metadata": {},
   "source": [
    "### 3. Authenticate\n",
    "\n",
    "The first time you run Fused in a Notebook, you may be prompted to authenticate. To authenticate you'll need to have [created a Fused account](/workbench/get-started/#1-sign-up-for-fused), although it's also possible to [run UDFs without an account](/python-sdk/get-started/#run-udfs-without-an-account).\n",
    "\n",
    "Call `NotebookCredentials` in a cell and follow the authentication flow.\n",
    "\n"
   ]
  },
  {
   "cell_type": "code",
   "execution_count": null,
   "metadata": {},
   "outputs": [],
   "source": [
    "from fused.api import NotebookCredentials\n",
    "credentials = NotebookCredentials()"
   ]
  },
  {
   "cell_type": "markdown",
   "metadata": {},
   "source": [
    "Fused will write credentials to disk (in `~/.fused/credentials`) and `fused-py` will have access to the Fused API.\n",
    "\n",
    "\n",
    ":::info\n",
    "\n",
    "When running code from a Python environment without browser access, you may copy the `~/.fused/credentials` file to the same location in the target system.\n",
    "\n",
    ":::\n"
   ]
  },
  {
   "cell_type": "markdown",
   "metadata": {},
   "source": [
    "## Quickstart"
   ]
  },
  {
   "cell_type": "markdown",
   "metadata": {},
   "source": [
    "### 1. Define a UDF\n",
    "\n",
    "Fused takes your Python code and runs in in the cloud.\n",
    "\n",
    "Let's write a simple function that takes an input, prints a log to the console, and then returns an output.\n",
    "\n",
    "To make this function a Fused UDF, simply decorate it with `@fused.udf`. "
   ]
  },
  {
   "cell_type": "code",
   "execution_count": 1,
   "metadata": {},
   "outputs": [],
   "source": [
    "import fused\n",
    "\n",
    "@fused.udf\n",
    "def udf(message):\n",
    "    import pandas as pd\n",
    "    return pd.DataFrame({'a': [message]})"
   ]
  },
  {
   "cell_type": "markdown",
   "metadata": {},
   "source": [
    "### 2. Run a UDF locally and remotely\n",
    "\n",
    "You run UDFs with `fused.run`. There are two ways to run the UDF:\n",
    "1. As a regular function call on your local machine, with `engine='local'`\n",
    "2. As a remote function call on the Fused cloud, with `engine='realtime'`\n"
   ]
  },
  {
   "cell_type": "code",
   "execution_count": null,
   "metadata": {},
   "outputs": [],
   "source": [
    "# Run locally\n",
    "fused.run(udf, message='Hello, world!', engine='local')\n",
    "\n",
    "# Run on Fused\n",
    "fused.run(udf, message='Hello, world!', engine='realtime')"
   ]
  },
  {
   "cell_type": "markdown",
   "metadata": {},
   "source": [
    "#### What just happened?\n",
    "When you called `fused.run` with the realtime engine, the function was executed on Fused's cloud infrastructure. Fused took the function, ran it in a cloud instance, and returned the output. \n",
    "\n",
    "The goal of Fused is to make running Python in the cloud feel like you're running it locally - with added benefits such as easy autoscaling and no need to manage infrastructure."
   ]
  },
  {
   "cell_type": "markdown",
   "metadata": {},
   "source": [
    "### 3. Load and run a UDF\n",
    "\n",
    "You can load UDFs from various sources: GitHub repositories, local files, and your Fused account. This fosters discoverability within teams and the UDF community, promotes reuse of existing code, and simplifies your workflows."
   ]
  },
  {
   "cell_type": "markdown",
   "metadata": {},
   "source": [
    "Load a UDF from a GitHub URL and inspect its repr:"
   ]
  },
  {
   "cell_type": "code",
   "execution_count": null,
   "metadata": {},
   "outputs": [],
   "source": [
    "udf = fused.load(\"https://github.com/fusedio/udfs/tree/main/public/DuckDB_NYC_Example\")\n",
    "udf"
   ]
  },
  {
   "cell_type": "markdown",
   "metadata": {},
   "source": [
    "Run the loaded UDF:"
   ]
  },
  {
   "cell_type": "code",
   "execution_count": null,
   "metadata": {},
   "outputs": [],
   "source": [
    "gdf = fused.run(udf, engine='local')\n",
    "gdf.head()"
   ]
  },
  {
   "cell_type": "markdown",
   "metadata": {},
   "source": [
    "Run a Public UDF by its name:"
   ]
  },
  {
   "cell_type": "code",
   "execution_count": null,
   "metadata": {},
   "outputs": [],
   "source": [
    "gdf = fused.run(\"UDF_DuckDB_NYC_Example\", engine='realtime')\n",
    "gdf.head()"
   ]
  },
  {
   "cell_type": "markdown",
   "metadata": {},
   "source": [
    ":::note\n",
    "\n",
    "Loading UDFs from GitHub repositories or local files does not require authentication to the Fused platform.\n",
    "\n",
    ":::\n",
    "\n"
   ]
  },
  {
   "cell_type": "markdown",
   "metadata": {},
   "source": [
    "Run a Public UDF by its name, and pass a custom parameter value:"
   ]
  },
  {
   "cell_type": "code",
   "execution_count": null,
   "metadata": {},
   "outputs": [],
   "source": [
    "import geopandas as gpd\n",
    "import fused\n",
    "\n",
    "bbox = gpd.GeoDataFrame.from_features({\"type\": \"FeatureCollection\",\"features\": [{\"type\": \"Feature\",\"properties\": {},\"geometry\": {\"coordinates\": [[[3.390159017607914,6.463364738709416],[3.386024182498403,6.460179445052702],[3.3878593059455397,6.457224951853391],[3.3933182174667422,6.457132623662659],[3.3933182174667422,6.461541275955156],[3.390159017607914,6.463364738709416]]],\"type\": \"Polygon\"}}]})\n",
    "\n",
    "# gdf = fused.run(\"UDF_Overture_Maps_Example\", bbox=(-77.34375, 38.41055, -77.167968, 38.54816), engine='realtime')\n",
    "gdf = fused.run(\"UDF_Overture_Maps_Example\", bbox=[-77.34375, 38.41055, -77.167968, 38.54816], engine='realtime')\n",
    "# gdf.plot()\n",
    "gdf.head(1)"
   ]
  },
  {
   "cell_type": "code",
   "execution_count": null,
   "metadata": {},
   "outputs": [],
   "source": [
    "udf = fused.load(\"https://github.com/fusedio/udfs/tree/main/public/Overture_Maps_Example\")\n",
    "gdf = fused.run(udf, bbox=bbox, engine='realtime')\n",
    "gdf.head(1)"
   ]
  },
  {
   "cell_type": "markdown",
   "metadata": {},
   "source": [
    "## 4. Save a UDF \n",
    "\n"
   ]
  },
  {
   "cell_type": "code",
   "execution_count": null,
   "metadata": {},
   "outputs": [],
   "source": []
  },
  {
   "cell_type": "code",
   "execution_count": null,
   "metadata": {},
   "outputs": [],
   "source": [
    "udf = fused.load(\"https://github.com/fusedio/udfs/tree/main/public/Overture_Maps_Example\")\n",
    "udf.name=\"My_Oveture_UDF\"\n",
    "udf.to_fused()"
   ]
  },
  {
   "cell_type": "markdown",
   "metadata": {},
   "source": [
    "## 5. List udfs in your account"
   ]
  },
  {
   "cell_type": "code",
   "execution_count": null,
   "metadata": {},
   "outputs": [],
   "source": [
    "all_udfs = fused.api.get_udfs(n=100)\n",
    "fused.run(all_udfs.DuckDB_NYC_Example)"
   ]
  },
  {
   "cell_type": "code",
   "execution_count": null,
   "metadata": {},
   "outputs": [],
   "source": [
    "# by name in my account\n",
    "fused.run(\"coffee_narwhal\", engine='realtime')"
   ]
  },
  {
   "cell_type": "code",
   "execution_count": null,
   "metadata": {},
   "outputs": [],
   "source": [
    "bbox"
   ]
  },
  {
   "cell_type": "code",
   "execution_count": null,
   "metadata": {},
   "outputs": [],
   "source": [
    "fused.run(all_udfs.DuckDB_NYC_Example)"
   ]
  },
  {
   "cell_type": "code",
   "execution_count": null,
   "metadata": {},
   "outputs": [],
   "source": [
    "@fused.udf\n",
    "def udf2(message):\n",
    "    import pandas as pd\n",
    "    return pd.DataFrame({'a': [message]})\n",
    "udf2.to_fused()"
   ]
  },
  {
   "cell_type": "markdown",
   "metadata": {},
   "source": [
    "\n",
    "## 6. create endpoint\n",
    "\n",
    "\n",
    "\n",
    "\n"
   ]
  },
  {
   "cell_type": "code",
   "execution_count": null,
   "metadata": {},
   "outputs": [],
   "source": [
    "import fused\n",
    "fused.api.get_udf_access_token\n",
    "# fused.api._check_is_prod()"
   ]
  },
  {
   "cell_type": "markdown",
   "metadata": {},
   "source": [
    "## 7. plot in map xyz"
   ]
  },
  {
   "cell_type": "code",
   "execution_count": null,
   "metadata": {},
   "outputs": [],
   "source": [
    "import fused\n",
    "import geopandas as gpd\n",
    "\n",
    "udf = fused.load(\"https://github.com/fusedio/udfs/tree/main/public/Overture_Maps_Example\")\n",
    "gdf_output = fused.run(udf, x=2622, y=6333, z=14, engine='local')\n"
   ]
  },
  {
   "cell_type": "code",
   "execution_count": null,
   "metadata": {},
   "outputs": [],
   "source": []
  }
 ],
 "metadata": {
  "kernelspec": {
   "display_name": ".venv",
   "language": "python",
   "name": "python3"
  },
  "language_info": {
   "codemirror_mode": {
    "name": "ipython",
    "version": 3
   },
   "file_extension": ".py",
   "mimetype": "text/x-python",
   "name": "python",
   "nbconvert_exporter": "python",
   "pygments_lexer": "ipython3",
   "version": "3.9.19"
  }
 },
 "nbformat": 4,
 "nbformat_minor": 2
}
