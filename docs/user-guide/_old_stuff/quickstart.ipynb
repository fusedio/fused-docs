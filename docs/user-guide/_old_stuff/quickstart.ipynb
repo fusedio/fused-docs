{
 "cells": [
  {
   "cell_type": "markdown",
   "metadata": {},
   "source": [
    "# Get started with Fused!!\n",
    "\n",
    "Use the [Fused Python SDK](/python-sdk) to run a workflow in your favorite IDE, Jupyter Notebook, or Python environment.\n",
    "\n",
    "## Fast Track ⏱️\n",
    "\n",
    "Understand Fused in 5 interactive minutes!\n",
    "\n",
    "This quick tutorial introduces key concepts and basic features of Fused to help you get started with your workflows!\n",
    "\n",
    "## Concepts\n",
    "\n",
    "Fused, as the name suggests, is a tool to fuse any data, with any tool, at any scale. At its core is the User Defined Function - the UDF. UDFs are the building blocks of composable geospatial operations. They are Python functions that Fused enhances with the ability to spatially filter access datasets of any size, run in a serverless cloud, and other benefits you'll learn about as you deepen in the ecosystem.\n",
    "\n",
    "In this tutorial, you'll first install the Fused Python SDK and progressively write and run UDFs.\n",
    "\n",
    "### Install the Fused Python SDK."
   ]
  },
  {
   "cell_type": "code",
   "execution_count": 2,
   "metadata": {},
   "outputs": [],
   "source": [
    "# !pip install fused -q"
   ]
  },
  {
   "cell_type": "markdown",
   "metadata": {},
   "source": [
    "### Your first UDF\n",
    "\n",
    "UDFs are Python functions that get superpowers with the `@fused.udf` decorator.\n",
    "\n",
    "As a starting point, this cell shows how to declare a UDF and run it in your local environment with `fused.run`. Try running and modifying the UDF's code."
   ]
  },
  {
   "cell_type": "code",
   "execution_count": 1,
   "metadata": {},
   "outputs": [
    {
     "data": {
      "text/plain": [
       "42"
      ]
     },
     "execution_count": 1,
     "metadata": {},
     "output_type": "execute_result"
    }
   ],
   "source": [
    "import fused\n",
    "\n",
    "\n",
    "@fused.udf\n",
    "def udf():\n",
    "    import pandas as pd\n",
    "    return pd.DataFrame({\"answer\": [42]})\n",
    "\n",
    "\n",
    "fused.run(udf, engine=\"local\")"
   ]
  },
  {
   "cell_type": "markdown",
   "metadata": {},
   "source": [
    "### Run a community UDF\n",
    "\n",
    "It's also possible to load UDFs stored in a different environment, which makes it easy to reproduce and reuse code.\n",
    "\n",
    "This cell uses `fused.load` to import a UDF from the [UDF catalog GitHub repo](https://github.com/fusedio/udfs/tree/main)."
   ]
  },
  {
   "cell_type": "code",
   "execution_count": 5,
   "metadata": {},
   "outputs": [
    {
     "data": {
      "text/html": [
       "<div>\n",
       "<style scoped>\n",
       "    .dataframe tbody tr th:only-of-type {\n",
       "        vertical-align: middle;\n",
       "    }\n",
       "\n",
       "    .dataframe tbody tr th {\n",
       "        vertical-align: top;\n",
       "    }\n",
       "\n",
       "    .dataframe thead th {\n",
       "        text-align: right;\n",
       "    }\n",
       "</style>\n",
       "<table border=\"1\" class=\"dataframe\">\n",
       "  <thead>\n",
       "    <tr style=\"text-align: right;\">\n",
       "      <th></th>\n",
       "      <th>lng</th>\n",
       "      <th>lat</th>\n",
       "      <th>cnt</th>\n",
       "      <th>geometry</th>\n",
       "      <th>fused_index</th>\n",
       "    </tr>\n",
       "  </thead>\n",
       "  <tbody>\n",
       "    <tr>\n",
       "      <th>0</th>\n",
       "      <td>-73.969667</td>\n",
       "      <td>40.800667</td>\n",
       "      <td>161</td>\n",
       "      <td>POINT (-73.96967 40.80067)</td>\n",
       "      <td>0</td>\n",
       "    </tr>\n",
       "    <tr>\n",
       "      <th>1</th>\n",
       "      <td>-73.982000</td>\n",
       "      <td>40.757333</td>\n",
       "      <td>1281</td>\n",
       "      <td>POINT (-73.98200 40.75733)</td>\n",
       "      <td>1</td>\n",
       "    </tr>\n",
       "    <tr>\n",
       "      <th>2</th>\n",
       "      <td>-73.987333</td>\n",
       "      <td>40.725000</td>\n",
       "      <td>1452</td>\n",
       "      <td>POINT (-73.98733 40.72500)</td>\n",
       "      <td>2</td>\n",
       "    </tr>\n",
       "    <tr>\n",
       "      <th>3</th>\n",
       "      <td>-73.998000</td>\n",
       "      <td>40.720333</td>\n",
       "      <td>696</td>\n",
       "      <td>POINT (-73.99800 40.72033)</td>\n",
       "      <td>3</td>\n",
       "    </tr>\n",
       "    <tr>\n",
       "      <th>4</th>\n",
       "      <td>-74.005333</td>\n",
       "      <td>40.740667</td>\n",
       "      <td>4268</td>\n",
       "      <td>POINT (-74.00533 40.74067)</td>\n",
       "      <td>4</td>\n",
       "    </tr>\n",
       "  </tbody>\n",
       "</table>\n",
       "</div>"
      ],
      "text/plain": [
       "         lng        lat   cnt                    geometry  fused_index\n",
       "0 -73.969667  40.800667   161  POINT (-73.96967 40.80067)            0\n",
       "1 -73.982000  40.757333  1281  POINT (-73.98200 40.75733)            1\n",
       "2 -73.987333  40.725000  1452  POINT (-73.98733 40.72500)            2\n",
       "3 -73.998000  40.720333   696  POINT (-73.99800 40.72033)            3\n",
       "4 -74.005333  40.740667  4268  POINT (-74.00533 40.74067)            4"
      ]
     },
     "execution_count": 5,
     "metadata": {},
     "output_type": "execute_result"
    }
   ],
   "source": [
    "import fused\n",
    "\n",
    "udf = fused.load(\"https://github.com/fusedio/udfs/tree/main/public/DuckDB_NYC_Example\")\n",
    "gdf = fused.run(udf)\n",
    "gdf.head()"
   ]
  },
  {
   "cell_type": "markdown",
   "metadata": {},
   "source": [
    "### Read data\n",
    "\n",
    "Now, we need some data.\n",
    "\n",
    "Fused runs any Python code, so you can leverage popular open source libraries like [GeoPandas](https://geopandas.org/en/stable/index.html) to interact with data.\n",
    "\n",
    "This UDF shows an easy way to create a GeoDataFrame with census data hosted in a public catalog.\n"
   ]
  },
  {
   "cell_type": "code",
   "execution_count": 11,
   "metadata": {},
   "outputs": [
    {
     "data": {
      "text/html": [
       "<div>\n",
       "<style scoped>\n",
       "    .dataframe tbody tr th:only-of-type {\n",
       "        vertical-align: middle;\n",
       "    }\n",
       "\n",
       "    .dataframe tbody tr th {\n",
       "        vertical-align: top;\n",
       "    }\n",
       "\n",
       "    .dataframe thead th {\n",
       "        text-align: right;\n",
       "    }\n",
       "</style>\n",
       "<table border=\"1\" class=\"dataframe\">\n",
       "  <thead>\n",
       "    <tr style=\"text-align: right;\">\n",
       "      <th></th>\n",
       "      <th>STATEFP</th>\n",
       "      <th>COUNTYFP</th>\n",
       "      <th>TRACTCE</th>\n",
       "      <th>BLKGRPCE</th>\n",
       "      <th>GEOID</th>\n",
       "      <th>NAMELSAD</th>\n",
       "      <th>MTFCC</th>\n",
       "      <th>FUNCSTAT</th>\n",
       "      <th>ALAND</th>\n",
       "      <th>AWATER</th>\n",
       "      <th>INTPTLAT</th>\n",
       "      <th>INTPTLON</th>\n",
       "      <th>geometry</th>\n",
       "    </tr>\n",
       "  </thead>\n",
       "  <tbody>\n",
       "    <tr>\n",
       "      <th>0</th>\n",
       "      <td>11</td>\n",
       "      <td>001</td>\n",
       "      <td>010800</td>\n",
       "      <td>1</td>\n",
       "      <td>110010108001</td>\n",
       "      <td>Block Group 1</td>\n",
       "      <td>G5030</td>\n",
       "      <td>S</td>\n",
       "      <td>112810</td>\n",
       "      <td>0</td>\n",
       "      <td>+38.9005669</td>\n",
       "      <td>-077.0474728</td>\n",
       "      <td>POLYGON ((-77.05014 38.90033, -77.05013 38.900...</td>\n",
       "    </tr>\n",
       "    <tr>\n",
       "      <th>1</th>\n",
       "      <td>11</td>\n",
       "      <td>001</td>\n",
       "      <td>010900</td>\n",
       "      <td>2</td>\n",
       "      <td>110010109002</td>\n",
       "      <td>Block Group 2</td>\n",
       "      <td>G5030</td>\n",
       "      <td>S</td>\n",
       "      <td>2270174</td>\n",
       "      <td>2933566</td>\n",
       "      <td>+38.8132364</td>\n",
       "      <td>-077.0238475</td>\n",
       "      <td>POLYGON ((-77.03919 38.80050, -77.03913 38.800...</td>\n",
       "    </tr>\n",
       "    <tr>\n",
       "      <th>2</th>\n",
       "      <td>11</td>\n",
       "      <td>001</td>\n",
       "      <td>007401</td>\n",
       "      <td>1</td>\n",
       "      <td>110010074011</td>\n",
       "      <td>Block Group 1</td>\n",
       "      <td>G5030</td>\n",
       "      <td>S</td>\n",
       "      <td>1029053</td>\n",
       "      <td>200980</td>\n",
       "      <td>+38.8668098</td>\n",
       "      <td>-076.9949201</td>\n",
       "      <td>POLYGON ((-77.00540 38.86879, -77.00341 38.870...</td>\n",
       "    </tr>\n",
       "    <tr>\n",
       "      <th>3</th>\n",
       "      <td>11</td>\n",
       "      <td>001</td>\n",
       "      <td>007403</td>\n",
       "      <td>1</td>\n",
       "      <td>110010074031</td>\n",
       "      <td>Block Group 1</td>\n",
       "      <td>G5030</td>\n",
       "      <td>S</td>\n",
       "      <td>126738</td>\n",
       "      <td>0</td>\n",
       "      <td>+38.8481009</td>\n",
       "      <td>-076.9774095</td>\n",
       "      <td>POLYGON ((-76.98127 38.84662, -76.98098 38.846...</td>\n",
       "    </tr>\n",
       "    <tr>\n",
       "      <th>4</th>\n",
       "      <td>11</td>\n",
       "      <td>001</td>\n",
       "      <td>007404</td>\n",
       "      <td>1</td>\n",
       "      <td>110010074041</td>\n",
       "      <td>Block Group 1</td>\n",
       "      <td>G5030</td>\n",
       "      <td>S</td>\n",
       "      <td>360630</td>\n",
       "      <td>0</td>\n",
       "      <td>+38.8514546</td>\n",
       "      <td>-076.9784997</td>\n",
       "      <td>POLYGON ((-76.98334 38.85337, -76.98277 38.853...</td>\n",
       "    </tr>\n",
       "  </tbody>\n",
       "</table>\n",
       "</div>"
      ],
      "text/plain": [
       "  STATEFP COUNTYFP TRACTCE BLKGRPCE         GEOID       NAMELSAD  MTFCC  \\\n",
       "0      11      001  010800        1  110010108001  Block Group 1  G5030   \n",
       "1      11      001  010900        2  110010109002  Block Group 2  G5030   \n",
       "2      11      001  007401        1  110010074011  Block Group 1  G5030   \n",
       "3      11      001  007403        1  110010074031  Block Group 1  G5030   \n",
       "4      11      001  007404        1  110010074041  Block Group 1  G5030   \n",
       "\n",
       "  FUNCSTAT    ALAND   AWATER     INTPTLAT      INTPTLON  \\\n",
       "0        S   112810        0  +38.9005669  -077.0474728   \n",
       "1        S  2270174  2933566  +38.8132364  -077.0238475   \n",
       "2        S  1029053   200980  +38.8668098  -076.9949201   \n",
       "3        S   126738        0  +38.8481009  -076.9774095   \n",
       "4        S   360630        0  +38.8514546  -076.9784997   \n",
       "\n",
       "                                            geometry  \n",
       "0  POLYGON ((-77.05014 38.90033, -77.05013 38.900...  \n",
       "1  POLYGON ((-77.03919 38.80050, -77.03913 38.800...  \n",
       "2  POLYGON ((-77.00540 38.86879, -77.00341 38.870...  \n",
       "3  POLYGON ((-76.98127 38.84662, -76.98098 38.846...  \n",
       "4  POLYGON ((-76.98334 38.85337, -76.98277 38.853...  "
      ]
     },
     "execution_count": 11,
     "metadata": {},
     "output_type": "execute_result"
    }
   ],
   "source": [
    "@fused.udf\n",
    "def udf():\n",
    "    import geopandas as gpd\n",
    "\n",
    "    # Shape file as zip\n",
    "    url = \"https://www2.census.gov/geo/tiger/TIGER_RD18/STATE/11_DISTRICT_OF_COLUMBIA/11/tl_rd22_11_bg.zip\"\n",
    "    gdf = gpd.read_file(url)\n",
    "    return gdf\n",
    "\n",
    "\n",
    "gdf = fused.run(udf=udf, engine=\"local\")\n",
    "gdf.head()"
   ]
  },
  {
   "cell_type": "markdown",
   "metadata": {},
   "source": [
    "### Basic operations\n",
    "\n",
    "You can use Fused to conduct basic geospatial operations on any size dataset. Here are some examples."
   ]
  },
  {
   "cell_type": "code",
   "execution_count": 52,
   "metadata": {},
   "outputs": [
    {
     "data": {
      "text/html": [
       "<div>\n",
       "<style scoped>\n",
       "    .dataframe tbody tr th:only-of-type {\n",
       "        vertical-align: middle;\n",
       "    }\n",
       "\n",
       "    .dataframe tbody tr th {\n",
       "        vertical-align: top;\n",
       "    }\n",
       "\n",
       "    .dataframe thead th {\n",
       "        text-align: right;\n",
       "    }\n",
       "</style>\n",
       "<table border=\"1\" class=\"dataframe\">\n",
       "  <thead>\n",
       "    <tr style=\"text-align: right;\">\n",
       "      <th></th>\n",
       "      <th>GEOID</th>\n",
       "      <th>area</th>\n",
       "      <th>centroid</th>\n",
       "      <th>buffered</th>\n",
       "      <th>convex_hull</th>\n",
       "    </tr>\n",
       "  </thead>\n",
       "  <tbody>\n",
       "    <tr>\n",
       "      <th>0</th>\n",
       "      <td>110010108001</td>\n",
       "      <td>1.865309e+05</td>\n",
       "      <td>1.865309e+05</td>\n",
       "      <td>POLYGON ((-8577181.905 4707405.025, -8577181.9...</td>\n",
       "      <td>POLYGON ((-8577181.348 4707296.602, -8577181.9...</td>\n",
       "    </tr>\n",
       "    <tr>\n",
       "      <th>1</th>\n",
       "      <td>110010109002</td>\n",
       "      <td>8.582903e+06</td>\n",
       "      <td>8.582903e+06</td>\n",
       "      <td>POLYGON ((-8575963.513 4693134.492, -8575963.5...</td>\n",
       "      <td>POLYGON ((-8575942.919 4691870.298, -8575963.5...</td>\n",
       "    </tr>\n",
       "    <tr>\n",
       "      <th>2</th>\n",
       "      <td>110010074011</td>\n",
       "      <td>2.031832e+06</td>\n",
       "      <td>2.031832e+06</td>\n",
       "      <td>POLYGON ((-8572201.582 4702894.684, -8572201.5...</td>\n",
       "      <td>POLYGON ((-8571463.757 4701282.178, -8571905.0...</td>\n",
       "    </tr>\n",
       "    <tr>\n",
       "      <th>3</th>\n",
       "      <td>110010074031</td>\n",
       "      <td>2.092521e+05</td>\n",
       "      <td>2.092521e+05</td>\n",
       "      <td>POLYGON ((-8569516.111 4699724.528, -8569516.1...</td>\n",
       "      <td>POLYGON ((-8569447.649 4699551.296, -8569522.6...</td>\n",
       "    </tr>\n",
       "    <tr>\n",
       "      <th>4</th>\n",
       "      <td>110010074041</td>\n",
       "      <td>5.954784e+05</td>\n",
       "      <td>5.954784e+05</td>\n",
       "      <td>POLYGON ((-8569745.986 4700689.222, -8569745.9...</td>\n",
       "      <td>POLYGON ((-8569408.688 4699765.406, -8569745.9...</td>\n",
       "    </tr>\n",
       "  </tbody>\n",
       "</table>\n",
       "</div>"
      ],
      "text/plain": [
       "          GEOID          area      centroid  \\\n",
       "0  110010108001  1.865309e+05  1.865309e+05   \n",
       "1  110010109002  8.582903e+06  8.582903e+06   \n",
       "2  110010074011  2.031832e+06  2.031832e+06   \n",
       "3  110010074031  2.092521e+05  2.092521e+05   \n",
       "4  110010074041  5.954784e+05  5.954784e+05   \n",
       "\n",
       "                                            buffered  \\\n",
       "0  POLYGON ((-8577181.905 4707405.025, -8577181.9...   \n",
       "1  POLYGON ((-8575963.513 4693134.492, -8575963.5...   \n",
       "2  POLYGON ((-8572201.582 4702894.684, -8572201.5...   \n",
       "3  POLYGON ((-8569516.111 4699724.528, -8569516.1...   \n",
       "4  POLYGON ((-8569745.986 4700689.222, -8569745.9...   \n",
       "\n",
       "                                         convex_hull  \n",
       "0  POLYGON ((-8577181.348 4707296.602, -8577181.9...  \n",
       "1  POLYGON ((-8575942.919 4691870.298, -8575963.5...  \n",
       "2  POLYGON ((-8571463.757 4701282.178, -8571905.0...  \n",
       "3  POLYGON ((-8569447.649 4699551.296, -8569522.6...  \n",
       "4  POLYGON ((-8569408.688 4699765.406, -8569745.9...  "
      ]
     },
     "execution_count": 52,
     "metadata": {},
     "output_type": "execute_result"
    }
   ],
   "source": [
    "@fused.udf\n",
    "def udf():\n",
    "    import geopandas as gpd\n",
    "\n",
    "    # Shape file as zip\n",
    "    url = \"https://www2.census.gov/geo/tiger/TIGER_RD18/STATE/11_DISTRICT_OF_COLUMBIA/11/tl_rd22_11_bg.zip\"\n",
    "    gdf = gpd.read_file(url)\n",
    "\n",
    "    # Reproject Coordinate Reference System\n",
    "    gdf = gdf.to_crs(epsg=3857)\n",
    "\n",
    "    # Calculate areas\n",
    "    gdf[\"area\"] = gdf.area\n",
    "\n",
    "    # Get centroid\n",
    "    gdf[\"centroid\"] = gdf.area\n",
    "\n",
    "    # Calculate buffer\n",
    "    gdf[\"buffered\"] = gdf.buffer(0.0001)\n",
    "\n",
    "    # Calculate convex hull\n",
    "    gdf[\"convex_hull\"] = gdf.convex_hull\n",
    "\n",
    "    return gdf[[\"GEOID\", \"area\", \"centroid\", \"buffered\", \"convex_hull\"]].head()\n",
    "\n",
    "\n",
    "gdf = fused.run(udf=udf, engine=\"local\")\n",
    "gdf.head()"
   ]
  },
  {
   "cell_type": "code",
   "execution_count": 53,
   "metadata": {},
   "outputs": [
    {
     "data": {
      "text/plain": [
       "<Axes: >"
      ]
     },
     "execution_count": 53,
     "metadata": {},
     "output_type": "execute_result"
    },
    {
     "data": {
      "image/png": "[encoded data removed]",
      "text/plain": [
       "<Figure size 640x480 with 1 Axes>"
      ]
     },
     "metadata": {},
     "output_type": "display_data"
    }
   ],
   "source": [
    "gdf.buffered.plot()"
   ]
  },
  {
   "cell_type": "markdown",
   "metadata": {},
   "source": [
    "### Spatial filtering ⚡\n",
    "\n",
    "At this point, you might be asking: why would I use Fused to run basic spatial operations?\n",
    "\n",
    "Fused gives your Python functions the ability to spatially filter dataset. It uses the `bbox` to perform a spatial query and return only the piece of data needed for the analysis. \n",
    "\n",
    "When you run a UDF in parallel and on a serverless `realtime` engine, you suddenly have the ability to run simple Python code over datasets of any size. This takes you from code to map, instantly.\n"
   ]
  },
  {
   "cell_type": "code",
   "execution_count": 2,
   "metadata": {},
   "outputs": [
    {
     "name": "stderr",
     "output_type": "stream",
     "text": [
      "2024-04-01 15:17:37.396 | DEBUG    | fused.core._cache:_cache:130 - Error [Errno 2] No such file or directory: '/tmp/cached_data/table_to_tile/data_2c20b1934b9bd13998c56a9336ff2df4245bf1ca72730ac9d792f4c453387f68'. Retrying.\n"
     ]
    },
    {
     "name": "stdout",
     "output_type": "stream",
     "text": [
      "9648 12320 15\n"
     ]
    },
    {
     "data": {
      "text/plain": [
       "235    POLYGON ((-73.99783 40.70978, -73.99785 40.709...\n",
       "239    POLYGON ((-73.99870 40.71098, -73.99864 40.711...\n",
       "250    POLYGON ((-74.00152 40.70789, -74.00182 40.708...\n",
       "253    POLYGON ((-74.00438 40.70812, -74.00438 40.708...\n",
       "254    POLYGON ((-74.00429 40.70665, -74.00391 40.706...\n",
       "dtype: geometry"
      ]
     },
     "execution_count": 2,
     "metadata": {},
     "output_type": "execute_result"
    }
   ],
   "source": [
    "@fused.udf\n",
    "def udf(bbox):\n",
    "    table_path = \"s3://fused-asset/infra/building_msft_us\"\n",
    "    utils = fused.load(\n",
    "        \"https://github.com/fusedio/udfs/tree/f928ee1/public/common/\"\n",
    "    ).utils\n",
    "    gdf = utils.table_to_tile(bbox, table=table_path)\n",
    "\n",
    "    # Calculate buffer\n",
    "    return gdf.buffer(0.0001)\n",
    "\n",
    "\n",
    "gdf = fused.run(udf=udf, x=9648, y=12320, z=15, engine=\"local\")\n",
    "gdf.head()"
   ]
  },
  {
   "cell_type": "code",
   "execution_count": 3,
   "metadata": {},
   "outputs": [
    {
     "data": {
      "text/plain": [
       "<Axes: >"
      ]
     },
     "execution_count": 3,
     "metadata": {},
     "output_type": "execute_result"
    },
    {
     "data": {
      "image/png": "[encoded data removed]",
      "text/plain": [
       "<Figure size 640x480 with 1 Axes>"
      ]
     },
     "metadata": {},
     "output_type": "display_data"
    }
   ],
   "source": [
    "gdf.plot()"
   ]
  },
  {
   "cell_type": "markdown",
   "metadata": {},
   "source": [
    "## What's next?"
   ]
  },
  {
   "cell_type": "markdown",
   "metadata": {},
   "source": [
    "\n",
    "Congratulations! You're off to a great start with Fused. 🎉\n",
    "\n",
    "With Fused you can do much more than what has been introduced so far, from loading data from [Google Earth Engine](/basics/in/gee/) and [DuckDB](/basics/in/duckdb/), operations with [rasters](/basics/transform/raster/) and [vectors](/basics/transform/vector/), to exporting data into [Lonboard](/basics/out/lonboard/) and [Streamlit](/basics/out/streamlit/), and [much more](/basics/tutorials/). Head over to the [Python SDK documentation](/python-sdk/) to learn more about what's possible and join the community on [Discord](https://bit.ly/fused-discord).\n",
    "\n",
    "Once you feel ready, we invite you to [share the UDFs you create with the community](/contribute/)!\n",
    "\n",
    "Welcome aboard! 🚢\n",
    "\n"
   ]
  }
 ],
 "metadata": {
  "kernelspec": {
   "display_name": ".venv",
   "language": "python",
   "name": "python3"
  },
  "language_info": {
   "codemirror_mode": {
    "name": "ipython",
    "version": 3
   },
   "file_extension": ".py",
   "mimetype": "text/x-python",
   "name": "python",
   "nbconvert_exporter": "python",
   "pygments_lexer": "ipython3",
   "version": "3.9.19"
  }
 },
 "nbformat": 4,
 "nbformat_minor": 2
}
