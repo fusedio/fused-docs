{
 "cells": [
  {
   "cell_type": "markdown",
   "metadata": {},
   "source": [
    "# Google BigQuery\n",
    "\n",
    "import Tag from '@site/src/components/Tag'\n",
    "\n",
    "Fused interfaces <Tag color=\"#3399ff\">Google BigQuery</Tag> through the Python `bigquery` library enabling efficient data processing and analysis. Follow these steps to harness the power of BigQuery within your Fused environment."
   ]
  },
  {
   "cell_type": "markdown",
   "metadata": {},
   "source": [
    "## 1. Generate Google access credentials json\n",
    "\n",
    "Before proceeding, ensure you have access credentials for Google Cloud Platform (GCP). Follow the guide [here](https://developers.google.com/workspace/guides/create-credentials) to create the necessary credentials."
   ]
  },
  {
   "cell_type": "markdown",
   "metadata": {},
   "source": [
    "## 2. Set the Access Credentials\n",
    "\n",
    "\n",
    "Run a UDF to set the Google access credentials as a json file in your Fused account's file system. This process resembles [setting an environment variables file](/core-concepts/content-management/environment-variables/).\n",
    "\n",
    "Implement the following Python code snippet to set your credentials json string in the environment. The base of your account's filesystem of the Fused Hosted API is `/mnt/cache/`."
   ]
  },
  {
   "cell_type": "code",
   "execution_count": 1,
   "metadata": {},
   "outputs": [],
   "source": [
    "import fused\n",
    "\n",
    "\n",
    "@fused.udf\n",
    "def udf():\n",
    "    credentials_json_string = \"...\"\n",
    "\n",
    "    # Path to your credentials json file\n",
    "    env_file_path = \"/mnt/cache/my_gee_creds.json\"\n",
    "\n",
    "    # Write the json string to the .json file\n",
    "    with open(env_file_path, \"w\") as file:\n",
    "        file.write(credentials_json_string)"
   ]
  },
  {
   "cell_type": "markdown",
   "metadata": {},
   "source": [
    "## 3. Run a UDF that interfaces BigQuery\n",
    "\n",
    "Now, you can run queries on BigQuery directly from your Fused environment. See the example code snippet below:\n",
    "\n"
   ]
  },
  {
   "cell_type": "code",
   "execution_count": 2,
   "metadata": {},
   "outputs": [],
   "source": [
    "import fused\n",
    "\n",
    "\n",
    "@fused.udf\n",
    "def udf(bbox=None, geography_column=None):\n",
    "    from google.cloud import bigquery\n",
    "    from google.oauth2 import service_account\n",
    "\n",
    "    # This UDF will only work on runtime with mounted EFS\n",
    "    key_path = \"/mnt/cache/my_gee_creds.json\"\n",
    "\n",
    "    # Authenticate BigQuery\n",
    "    credentials = service_account.Credentials.from_service_account_file(\n",
    "        key_path, scopes=[\"https://www.googleapis.com/auth/cloud-platform\"]\n",
    "    )\n",
    "\n",
    "    # Create a BigQuery client\n",
    "    client = bigquery.Client(credentials=credentials, project=credentials.project_id)\n",
    "\n",
    "    # Structure spatial query\n",
    "    query = f\"\"\"\n",
    "        SELECT * FROM `bigquery-public-data.new_york.tlc_yellow_trips_2015`\n",
    "        LIMIT 10\n",
    "    \"\"\"\n",
    "\n",
    "    if geography_column:\n",
    "        return client.query(query).to_geodataframe(geography_column=geography_column)\n",
    "    else:\n",
    "        return client.query(query).to_dataframe()"
   ]
  },
  {
   "cell_type": "code",
   "execution_count": null,
   "metadata": {},
   "outputs": [],
   "source": []
  }
 ],
 "metadata": {
  "kernelspec": {
   "display_name": ".venv",
   "language": "python",
   "name": "python3"
  },
  "language_info": {
   "codemirror_mode": {
    "name": "ipython",
    "version": 3
   },
   "file_extension": ".py",
   "mimetype": "text/x-python",
   "name": "python",
   "nbconvert_exporter": "python",
   "pygments_lexer": "ipython3",
   "version": "3.9.19"
  }
 },
 "nbformat": 4,
 "nbformat_minor": 2
}
