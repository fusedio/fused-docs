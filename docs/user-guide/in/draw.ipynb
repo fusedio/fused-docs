{
 "cells": [
  {
   "cell_type": "markdown",
   "metadata": {},
   "source": [
    "# Draw a polygon\n",
    "\n",
    "The Notebook shows how to:\n",
    "\n",
    "1. Define an area of interest by drawing a polygon on a Leaflet map\n",
    "2. Perform a spatial query over the dataset with a UDF\n",
    "3. View the output on a map\n",
    "\n",
    "It shows examples for using both `ipyleaflet` and `geemap`.\n",
    "\n",
    "Let's begin!"
   ]
  },
  {
   "cell_type": "code",
   "execution_count": null,
   "metadata": {},
   "outputs": [],
   "source": [
    "# !pip install fused ipyleaflet geopandas odc-stac planetary-computer -q"
   ]
  },
  {
   "cell_type": "code",
   "execution_count": 1,
   "metadata": {},
   "outputs": [],
   "source": [
    "# If on colab, Enable the ipyleaflet widget (might require restarting the kernel)\n",
    "\n",
    "# !pip install ipywidgets==7.7.1 -q\n",
    "# from google.colab import output\n",
    "# output.enable_custom_widget_manager()"
   ]
  },
  {
   "cell_type": "markdown",
   "metadata": {},
   "source": [
    "## 1. Draw polygon with `ipyleaflet`\n",
    "Draw a polygon around the AOI and on the map and wait for building polygons to load.\n",
    "\n",
    "Note: the workflow is designed to work with a single polygon."
   ]
  },
  {
   "cell_type": "code",
   "execution_count": 4,
   "metadata": {},
   "outputs": [
    {
     "data": {
      "application/vnd.jupyter.widget-view+json": {
       "model_id": "d06d3f7c8a4f4e39a676eda29baf0411",
       "version_major": 2,
       "version_minor": 0
      },
      "text/plain": [
       "Map(center=[37.7749, -122.4194], controls=(ZoomControl(options=['position', 'zoom_in_text', 'zoom_in_title', '…"
      ]
     },
     "execution_count": 4,
     "metadata": {},
     "output_type": "execute_result"
    }
   ],
   "source": [
    "import geopandas as gpd\n",
    "from ipyleaflet import DrawControl, Map, basemap_to_tiles, basemaps\n",
    "from shapely.geometry import shape\n",
    "\n",
    "# Create a map centered at the given location\n",
    "MAP_LOCATION = (37.7749, -122.4194)\n",
    "\n",
    "\n",
    "m = Map(\n",
    "    layers=(basemap_to_tiles(basemaps.OpenStreetMap.Mapnik),),\n",
    "    center=MAP_LOCATION,\n",
    "    zoom=14,\n",
    ")\n",
    "\n",
    "\n",
    "draw_control = DrawControl()\n",
    "draw_control.polygon = {\n",
    "    \"shapeOptions\": {\"color\": \"red\", \"fillOpacity\": 0.0},\n",
    "    \"drawError\": {\"color\": \"#dd253b\", \"message\": \"Oups!\"},\n",
    "    \"allowIntersection\": False,\n",
    "}\n",
    "\n",
    "draw_control.rectangle = {\"shapeOptions\": {\"color\": \"red\", \"fillOpacity\": 0.0}}\n",
    "\n",
    "m.add(draw_control)"
   ]
  },
  {
   "cell_type": "markdown",
   "metadata": {},
   "source": [
    "## 2. Convert polygon to GeoDataFrame"
   ]
  },
  {
   "cell_type": "code",
   "execution_count": 6,
   "metadata": {},
   "outputs": [
    {
     "data": {
      "text/html": [
       "<div>\n",
       "<style scoped>\n",
       "    .dataframe tbody tr th:only-of-type {\n",
       "        vertical-align: middle;\n",
       "    }\n",
       "\n",
       "    .dataframe tbody tr th {\n",
       "        vertical-align: top;\n",
       "    }\n",
       "\n",
       "    .dataframe thead th {\n",
       "        text-align: right;\n",
       "    }\n",
       "</style>\n",
       "<table border=\"1\" class=\"dataframe\">\n",
       "  <thead>\n",
       "    <tr style=\"text-align: right;\">\n",
       "      <th></th>\n",
       "      <th>geometry</th>\n",
       "    </tr>\n",
       "  </thead>\n",
       "  <tbody>\n",
       "    <tr>\n",
       "      <th>0</th>\n",
       "      <td>POLYGON ((-122.40795 37.78150, -122.41293 37.7...</td>\n",
       "    </tr>\n",
       "  </tbody>\n",
       "</table>\n",
       "</div>"
      ],
      "text/plain": [
       "                                            geometry\n",
       "0  POLYGON ((-122.40795 37.78150, -122.41293 37.7..."
      ]
     },
     "execution_count": 6,
     "metadata": {},
     "output_type": "execute_result"
    }
   ],
   "source": [
    "gdf = gpd.GeoDataFrame(\n",
    "    index=[0], crs=\"epsg:4326\", geometry=[shape(draw_control.last_draw.get(\"geometry\"))]\n",
    ")\n",
    "gdf"
   ]
  },
  {
   "cell_type": "markdown",
   "metadata": {},
   "source": [
    "## 3. Run UDFs with bbox input"
   ]
  },
  {
   "cell_type": "markdown",
   "metadata": {},
   "source": [
    "### a. Spatial query of Sentinel on Planetary Computer\n",
    "\n",
    "This UDF takes the input `bbox` bounds to perform a spatial query of the Sentinel dataset."
   ]
  },
  {
   "cell_type": "code",
   "execution_count": 7,
   "metadata": {},
   "outputs": [
    {
     "name": "stdout",
     "output_type": "stream",
     "text": [
      "Returned 2 Items\n",
      "resolution=20\n",
      "(2, 21, 49)\n"
     ]
    }
   ],
   "source": [
    "import fused\n",
    "\n",
    "\n",
    "@fused.udf\n",
    "def udf(bbox, time_of_interest=\"2023-11-01/2023-12-30\"):\n",
    "\n",
    "    import odc.stac\n",
    "    import planetary_computer\n",
    "    import pystac_client\n",
    "\n",
    "    utils = fused.load(\n",
    "        \"https://github.com/fusedio/udfs/tree/f928ee1/public/common/\"\n",
    "    ).utils\n",
    "\n",
    "    red_band = \"B04\"\n",
    "    nir_band = \"B08\"\n",
    "    catalog = pystac_client.Client.open(\n",
    "        \"https://planetarycomputer.microsoft.com/api/stac/v1\",\n",
    "        modifier=planetary_computer.sign_inplace,\n",
    "    )\n",
    "\n",
    "    items = catalog.search(\n",
    "        collections=[\"sentinel-2-l2a\"],\n",
    "        bbox=bbox.total_bounds,\n",
    "        datetime=time_of_interest,\n",
    "        query={\"eo:cloud_cover\": {\"lt\": 10}},\n",
    "    ).item_collection()\n",
    "\n",
    "    print(f\"Returned {len(items)} Items\")\n",
    "    resolution = int(5 * 2 ** (15 - bbox.z[0]))\n",
    "    print(f\"{resolution=}\")\n",
    "    ds = odc.stac.load(\n",
    "        items,\n",
    "        crs=\"EPSG:3857\",\n",
    "        bands=[nir_band, red_band],\n",
    "        resolution=resolution,\n",
    "        bbox=bbox.total_bounds,\n",
    "    ).astype(float)\n",
    "    ndvi = (ds[nir_band] - ds[red_band]) / (ds[nir_band] + ds[red_band])\n",
    "    print(ndvi.shape)\n",
    "    arr = ndvi.max(dim=\"time\")\n",
    "    return utils.arr_to_plasma(arr.values, min_max=(0, 0.8), reverse=False)\n",
    "\n",
    "\n",
    "arr = fused.run(udf=udf, bbox=gdf, engine=\"local\")"
   ]
  },
  {
   "cell_type": "code",
   "execution_count": 8,
   "metadata": {},
   "outputs": [
    {
     "data": {
      "image/png": "[encoded data removed]",
      "text/plain": [
       "<Figure size 640x480 with 1 Axes>"
      ]
     },
     "metadata": {},
     "output_type": "display_data"
    }
   ],
   "source": [
    "import matplotlib.pyplot as plt\n",
    "import numpy as np\n",
    "\n",
    "# Transpose the axes to match image format\n",
    "image_array = np.transpose(arr, (1, 2, 0))\n",
    "\n",
    "# Display the image\n",
    "plt.imshow(image_array)\n",
    "plt.axis(\"off\")  # Optional: turn off axis\n",
    "plt.show()"
   ]
  },
  {
   "cell_type": "markdown",
   "metadata": {},
   "source": [
    "### b. Spatial query of Overture Buildings\n",
    "\n",
    "This User Defined Function (UDF) queries a geo partitioned version of the Overture Buildings Dataset (hosted on an S3 bucket) that corresponds to the area of an input GeoDataFrame. It returns a GeoDataFrame containing the subsampled data, which gets cached to the local environment for added speed."
   ]
  },
  {
   "cell_type": "code",
   "execution_count": null,
   "metadata": {},
   "outputs": [],
   "source": [
    "import fused\n",
    "import geopandas as gpd\n",
    "\n",
    "udf = fused.load(\n",
    "    \"https://github.com/fusedio/udfs/tree/main/public/Overture_Maps_Example\"\n",
    ")\n",
    "gdf_output = fused.run(udf, bbox=gdf, engine=\"realtime\")\n",
    "output = gpd.GeoDataFrame(gdf_output, geometry=\"geometry\", crs=\"epsg:4326\")\n",
    "output.plot()"
   ]
  }
 ],
 "metadata": {
  "kernelspec": {
   "display_name": ".venv",
   "language": "python",
   "name": "python3"
  },
  "language_info": {
   "codemirror_mode": {
    "name": "ipython",
    "version": 3
   },
   "file_extension": ".py",
   "mimetype": "text/x-python",
   "name": "python",
   "nbconvert_exporter": "python",
   "pygments_lexer": "ipython3",
   "version": "3.9.19"
  }
 },
 "nbformat": 4,
 "nbformat_minor": 2
}
