{
 "cells": [
  {
   "cell_type": "markdown",
   "metadata": {},
   "source": [
    "# DuckDB\n",
    "\n",
    "The combination of Fused serverless operations and DuckDB offers blazing fast data processing. Fused has long embraced Python for its serverless User Defined Functions (UDFs). Now, with the help of DuckDB, Fused enables developers to leverage the ease and familiarity of SQL in these functions as well — without compromising on performance and parallelism.\n",
    "\n",
    "This notebook is support material for the blog post [DuckDB + Fused: Fly beyond the serverless horizon](https://medium.com/@fused/duckdb-fused-fly-beyond-the-serverless-horizon-886d892834aa)."
   ]
  },
  {
   "cell_type": "markdown",
   "metadata": {},
   "source": [
    "## 1. Run DuckDB in a Fused UDF\n",
    "\n",
    "As an example of running DuckDB within a Fused UDF, take the case of loading a geospatial Parquet dataset. The \"DuckDB H3\" sample UDF runs an SQL query with DuckDB on the NYC Taxi Trip Record [Dataset](https://www.nyc.gov/site/tlc/about/tlc-trip-record-data.page). It uses the [bbox](https://docs.fused.io/basics/core-concepts/#the-bbox-object) argument to spatially filter the dataset and automatically parallelize the operation.\n",
    "\n",
    "To try this example, you can run the cell below. You can find the code of the UDF in the Fused public UDF [repo](https://github.com/fusedio/udfs/tree/main/public/DuckDB_H3_Example_Tile).\n",
    "\n",
    "Alternatively, you can import the \"DuckDB H3 Example Tile\" UDF into your Fused Workbench environment. \n",
    "\n",
    "This pattern gives DuckDB easy parallel operations. Fused spatially filters the dataset via the bbox parameter, runs the operation for each encompassing tile, and stitches the results together. Because Fused breaks down operations to only a fraction of the dataset, it's easy to transition between SQL and Python.\n",
    "\n",
    "<img src=\"https://fused-magic.s3.us-west-2.amazonaws.com/docs_assets/nyc.png\" alt=\"overture\" width=\"600\"/>"
   ]
  },
  {
   "cell_type": "code",
   "execution_count": null,
   "metadata": {},
   "outputs": [],
   "source": [
    "# !pip install fused \"duckdb>=0.10.1\" -q"
   ]
  },
  {
   "cell_type": "code",
   "execution_count": 4,
   "metadata": {},
   "outputs": [
    {
     "data": {
      "text/html": [
       "<div>\n",
       "<style scoped>\n",
       "    .dataframe tbody tr th:only-of-type {\n",
       "        vertical-align: middle;\n",
       "    }\n",
       "\n",
       "    .dataframe tbody tr th {\n",
       "        vertical-align: top;\n",
       "    }\n",
       "\n",
       "    .dataframe thead th {\n",
       "        text-align: right;\n",
       "    }\n",
       "</style>\n",
       "<table border=\"1\" class=\"dataframe\">\n",
       "  <thead>\n",
       "    <tr style=\"text-align: right;\">\n",
       "      <th></th>\n",
       "      <th>cell_id</th>\n",
       "      <th>cell_lat</th>\n",
       "      <th>cell_lng</th>\n",
       "      <th>cnt</th>\n",
       "      <th>geometry</th>\n",
       "      <th>fused_index</th>\n",
       "    </tr>\n",
       "  </thead>\n",
       "  <tbody>\n",
       "    <tr>\n",
       "      <th>0</th>\n",
       "      <td>8b2a100d692cfff</td>\n",
       "      <td>40.769096</td>\n",
       "      <td>-73.961092</td>\n",
       "      <td>6219</td>\n",
       "      <td>POLYGON ((-73.96110 40.76935, -73.96140 40.769...</td>\n",
       "      <td>0</td>\n",
       "    </tr>\n",
       "    <tr>\n",
       "      <th>1</th>\n",
       "      <td>8b2a100d6796fff</td>\n",
       "      <td>40.758610</td>\n",
       "      <td>-73.985763</td>\n",
       "      <td>6132</td>\n",
       "      <td>POLYGON ((-73.98577 40.75886, -73.98607 40.758...</td>\n",
       "      <td>1</td>\n",
       "    </tr>\n",
       "    <tr>\n",
       "      <th>2</th>\n",
       "      <td>8b2a100d2922fff</td>\n",
       "      <td>40.750926</td>\n",
       "      <td>-73.976595</td>\n",
       "      <td>2324</td>\n",
       "      <td>POLYGON ((-73.97660 40.75118, -73.97691 40.751...</td>\n",
       "      <td>2</td>\n",
       "    </tr>\n",
       "    <tr>\n",
       "      <th>3</th>\n",
       "      <td>8b2a100d6754fff</td>\n",
       "      <td>40.756159</td>\n",
       "      <td>-73.978633</td>\n",
       "      <td>2174</td>\n",
       "      <td>POLYGON ((-73.97864 40.75641, -73.97894 40.756...</td>\n",
       "      <td>3</td>\n",
       "    </tr>\n",
       "    <tr>\n",
       "      <th>4</th>\n",
       "      <td>8b2a100d2d95fff</td>\n",
       "      <td>40.752744</td>\n",
       "      <td>-73.993177</td>\n",
       "      <td>4826</td>\n",
       "      <td>POLYGON ((-73.99319 40.75299, -73.99349 40.752...</td>\n",
       "      <td>4</td>\n",
       "    </tr>\n",
       "  </tbody>\n",
       "</table>\n",
       "</div>"
      ],
      "text/plain": [
       "           cell_id   cell_lat   cell_lng   cnt  \\\n",
       "0  8b2a100d692cfff  40.769096 -73.961092  6219   \n",
       "1  8b2a100d6796fff  40.758610 -73.985763  6132   \n",
       "2  8b2a100d2922fff  40.750926 -73.976595  2324   \n",
       "3  8b2a100d6754fff  40.756159 -73.978633  2174   \n",
       "4  8b2a100d2d95fff  40.752744 -73.993177  4826   \n",
       "\n",
       "                                            geometry  fused_index  \n",
       "0  POLYGON ((-73.96110 40.76935, -73.96140 40.769...            0  \n",
       "1  POLYGON ((-73.98577 40.75886, -73.98607 40.758...            1  \n",
       "2  POLYGON ((-73.97660 40.75118, -73.97691 40.751...            2  \n",
       "3  POLYGON ((-73.97864 40.75641, -73.97894 40.756...            3  \n",
       "4  POLYGON ((-73.99319 40.75299, -73.99349 40.752...            4  "
      ]
     },
     "execution_count": 4,
     "metadata": {},
     "output_type": "execute_result"
    }
   ],
   "source": [
    "import fused\n",
    "\n",
    "udf = fused.load(\"https://github.com/fusedio/udfs/tree/main/public/DuckDB_H3_Example_Tile\")\n",
    "gdf = fused.run(udf=udf, x=2412, y=3078, z=13, engine='local')\n",
    "gdf.head()"
   ]
  },
  {
   "cell_type": "markdown",
   "metadata": {},
   "source": [
    "## 2. Call Fused UDFs from DuckDB\n",
    "\n",
    "Any database that supports querying data via HTTP can call and load data from Fused UDF endpoints using common formats like Parquet or CSV. This means that DuckDB can dispatch operations to Fused that otherwise would be too complex or impossible to express with SQL, or would be unsupported in the local runtime.\n",
    "\n",
    "As an example of calling a Fused endpoint from within DuckDB, take an operation to vectorize a raster dataset. This might be necessary to determine the bounds of areas with pixel value within a certain threshold range in an Earth observation image - such as a Digital Elevation Model. SQL is not geared to support raster operations, but these are easy to do in Python.\n",
    "\n",
    "\n",
    "<img src=\"https://fused-magic.s3.us-west-2.amazonaws.com/docs_assets/gifs/sql.gif\" alt=\"overture\" width=\"600\"/>\n",
    "\n"
   ]
  },
  {
   "cell_type": "markdown",
   "metadata": {},
   "source": [
    "In this example, a Fused UDF returns a table where each record is a polygon generated from the contour of a raster provided by the [Copernicus Digital Elevation Model](https://spacedata.copernicus.eu/collections/copernicus-digital-elevation-model) as a [Cloud Optimized GeoTIFF](https://www.cogeo.org/). DuckDB can easily trigger a UDF and load its output with this simple query, which specifies that the UDF endpoint returns a Parquet file.\n",
    "\n",
    "This SQL query uses DuckDB's [read_parquet](https://duckdb.org/docs/data/parquet/overview.html) function to call an endpoint of a UDF instance of the \"DEM Raster to Vector\" UDF.\n",
    "\n",
    "You can find the code of the UDF in the Fused public UDF [repo](https://github.com/fusedio/udfs/tree/main/public/DEM_Raster_to_Vector_Example).\n",
    "\n",
    "To try this example, simply run the following SQL query on the cell below or in a [DuckDB shell](https://shell.duckdb.org/#queries=v0,SELECT-wkt%2C-area%0AFROM-read_csv('https%3A%2F%2Fwww.fused.io%2Fserver%2Fv1%2Frealtime%20shared%2F'-%7C%7C%0A'1e35c9b9cadf900265443073b0bd99072f859b8beddb72a45e701fb5bcde807d'-%7C%7C%0A'%2Frun%2Ffile%3Fdtype_out_vector%3Dcsv'-%7C%7C%0A'%26min_elevation%3D500')%0ALIMIT-10~). Change the `min_elevation` parameter to run the UDF for parts of California at different elevations. (Note: for DuckDB WASM, the file will be requested as CSV.)"
   ]
  },
  {
   "cell_type": "code",
   "execution_count": 5,
   "metadata": {},
   "outputs": [
    {
     "data": {
      "text/plain": [
       "┌────────────────────────────────────────────────────────────────────────────────────────────────────────┬─────────────┐\n",
       "│                                                  wkt                                                   │    area     │\n",
       "│                                                varchar                                                 │   double    │\n",
       "├────────────────────────────────────────────────────────────────────────────────────────────────────────┼─────────────┤\n",
       "│ POLYGON ((-124.1827015175656186 42.2400766748579528, -124.1827015175656186 42.1992724119226850, -124…  │  15409410.3 │\n",
       "│ POLYGON ((-124.3052742356768618 42.2808809377932349, -124.1827015175656186 42.2808809377932207, -124…  │ 138751711.8 │\n",
       "│ POLYGON ((-124.3869893810843479 42.1176638860521493, -124.3869893810843479 42.0768596231168956, -124…  │  15447026.2 │\n",
       "│ POLYGON ((-124.2235590902693616 42.1176638860521564, -124.2235590902693616 42.0360553601816278, -124…  │  30891651.3 │\n",
       "│ POLYGON ((-124.1827015175656186 41.7912297825700350, -124.1827015175656186 41.7504255196347742, -124…  │  15518755.9 │\n",
       "└────────────────────────────────────────────────────────────────────────────────────────────────────────┴─────────────┘"
      ]
     },
     "execution_count": 5,
     "metadata": {},
     "output_type": "execute_result"
    }
   ],
   "source": [
    "import duckdb\n",
    "\n",
    "con = duckdb.connect()\n",
    "\n",
    "con.sql(\"\"\"\n",
    "    SELECT \n",
    "        wkt, \n",
    "        ROUND(area,1) AS area\n",
    "    FROM read_parquet('https://www.fused.io/server/v1/realtime-shared/1e35c9b9cadf900265443073b0bd99072f859b8beddb72a45e701fb5bcde807d/run/file?min_elevation=500&dtype_out_vector=parquet')\n",
    "    LIMIT 5\n",
    "\"\"\")\n"
   ]
  },
  {
   "cell_type": "markdown",
   "metadata": {},
   "source": [
    "This pattern enables DuckDB to address use cases and data formats that it doesn't natively support or would otherwise see high data transfer cost, such as raster operations, API calls, and control flow logic."
   ]
  },
  {
   "cell_type": "markdown",
   "metadata": {},
   "source": [
    "## 3. Integrate DuckDB in applications using Fused\n",
    "\n",
    "Fused is the glue layer between DuckDB and apps. This enables seamless integrations that trigger Fused UDFs and load their results with simple parameterized HTTP calls.\n",
    "\n",
    "DuckDB is an embedded database engine and doesn't have built-in capability to share results other than writing out files. As a corollary of the preceding example, it's possible to query and transform data with DuckDB and seamlessly integrate the results of queries into any workflow or app.\n",
    "\n",
    "As an example, take the case of loading the output of a DuckDB query into Google Sheets. Sheets can easily structure the Fused UDF endpoint to pass parameters defined in specific cells as URL query parameters. In this example, the [importData](https://support.google.com/docs/answer/3093335?hl=en) command calls the endpoint for the UDF above and loads its output data in CSV format. It constructs the endpoint string by concatenating a base URL with the `B2`, `B3`, and `B4` cell values as query parameters.\n",
    "\n",
    "```bash\n",
    "=importData(CONCATENATE(\"https://www.fused.io/server/v1/realtime-shared/aba7b238d9445d576e15b2d6b780dc353bfdee55f02a285a85a3917b72835600/run/file?dtype_out_vector=csv&resolution=\", B2, \"&min_count=\", B3, \"&head=\", B4))\n",
    "```\n",
    "\n",
    "\n",
    "\n",
    "<img src=\"https://fused-magic.s3.us-west-2.amazonaws.com/docs_assets/gifs/sheets.gif\" alt=\"overture\" width=\"600\"/>\n",
    "\n"
   ]
  },
  {
   "cell_type": "markdown",
   "metadata": {},
   "source": [
    "To try this example simply make a copy of [this](https://docs.google.com/spreadsheets/d/1iufyjEct5bQjYAI8v1Mb5e29yG8ukzH4X8MD6oP1xLQ/edit?usp=sharing) Google Sheets spreadsheet (File > Make a copy) and click, and modify the parameters in `B2:4` to trigger the Fused UDF endpoint and load data.\n",
    "\n",
    "You can learn more about the Google Sheets integration in the [documentation](/basics/out/googlesheets/).\n",
    "\n",
    "This pattern brings the power of the DuckDB analytical engine into non-analytical and no-code software like Google Sheets, Retool, and beyond - without the need to build bespoke integrations with closed-source systems. With this, a Python developer can abstract away the UDF and deliver data to end users. This removes the need to even install DuckDB."
   ]
  },
  {
   "cell_type": "code",
   "execution_count": null,
   "metadata": {},
   "outputs": [],
   "source": []
  }
 ],
 "metadata": {
  "kernelspec": {
   "display_name": ".venv",
   "language": "python",
   "name": "python3"
  },
  "language_info": {
   "codemirror_mode": {
    "name": "ipython",
    "version": 3
   },
   "file_extension": ".py",
   "mimetype": "text/x-python",
   "name": "python",
   "nbconvert_exporter": "python",
   "pygments_lexer": "ipython3",
   "version": "3.9.19"
  }
 },
 "nbformat": 4,
 "nbformat_minor": 2
}
